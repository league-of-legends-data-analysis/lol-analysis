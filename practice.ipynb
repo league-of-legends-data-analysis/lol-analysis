{
 "cells": [
  {
   "cell_type": "code",
   "execution_count": 1,
   "metadata": {},
   "outputs": [],
   "source": [
    "import pandas as pd"
   ]
  },
  {
   "cell_type": "code",
   "execution_count": 2,
   "metadata": {},
   "outputs": [],
   "source": [
    "df1 = pd.read_csv('data/2022_09_10000_matches_한글버전_컬럼전처리.csv')"
   ]
  },
  {
   "cell_type": "code",
   "execution_count": 3,
   "metadata": {},
   "outputs": [],
   "source": [
    "df1 = df1.loc[:,['킬수','어시','데스','퍼블어시유무','퍼블유무','얻은 골드','라인','연속 킬','받은마법피해량','받은물리피해량','cs 수','다른 챔피언에게 cc기를 건 시간','게임 시간 (초)','부활 대기 죽은 시간',\n",
    "'챔피언에게 가한 피해량','포탑 골드 획득 갯수','시야점수','핑와산갯수','와드제거수','설치와드수','win']]"
   ]
  },
  {
   "cell_type": "code",
   "execution_count": 4,
   "metadata": {},
   "outputs": [
    {
     "data": {
      "text/html": [
       "<div>\n",
       "<style scoped>\n",
       "    .dataframe tbody tr th:only-of-type {\n",
       "        vertical-align: middle;\n",
       "    }\n",
       "\n",
       "    .dataframe tbody tr th {\n",
       "        vertical-align: top;\n",
       "    }\n",
       "\n",
       "    .dataframe thead th {\n",
       "        text-align: right;\n",
       "    }\n",
       "</style>\n",
       "<table border=\"1\" class=\"dataframe\">\n",
       "  <thead>\n",
       "    <tr style=\"text-align: right;\">\n",
       "      <th></th>\n",
       "      <th>킬수</th>\n",
       "      <th>어시</th>\n",
       "      <th>데스</th>\n",
       "      <th>퍼블어시유무</th>\n",
       "      <th>퍼블유무</th>\n",
       "      <th>얻은 골드</th>\n",
       "      <th>라인</th>\n",
       "      <th>연속 킬</th>\n",
       "      <th>cs 수</th>\n",
       "      <th>챔피언에게 가한 피해량</th>\n",
       "      <th>포탑 골드 획득 갯수</th>\n",
       "      <th>시야점수</th>\n",
       "      <th>핑와산갯수</th>\n",
       "      <th>와드제거수</th>\n",
       "      <th>설치와드수</th>\n",
       "      <th>win</th>\n",
       "      <th>받은 피해량</th>\n",
       "      <th>게임시간 대비 cc기 건 시간</th>\n",
       "      <th>게임시간 대비 죽은 시간</th>\n",
       "    </tr>\n",
       "  </thead>\n",
       "  <tbody>\n",
       "    <tr>\n",
       "      <th>0</th>\n",
       "      <td>15</td>\n",
       "      <td>3</td>\n",
       "      <td>6</td>\n",
       "      <td>False</td>\n",
       "      <td>False</td>\n",
       "      <td>14062</td>\n",
       "      <td>TOP</td>\n",
       "      <td>7</td>\n",
       "      <td>132</td>\n",
       "      <td>23814</td>\n",
       "      <td>4</td>\n",
       "      <td>10</td>\n",
       "      <td>0</td>\n",
       "      <td>0</td>\n",
       "      <td>7</td>\n",
       "      <td>True</td>\n",
       "      <td>28984</td>\n",
       "      <td>0.02</td>\n",
       "      <td>0.09</td>\n",
       "    </tr>\n",
       "    <tr>\n",
       "      <th>1</th>\n",
       "      <td>4</td>\n",
       "      <td>19</td>\n",
       "      <td>4</td>\n",
       "      <td>True</td>\n",
       "      <td>False</td>\n",
       "      <td>10577</td>\n",
       "      <td>JUNGLE</td>\n",
       "      <td>3</td>\n",
       "      <td>18</td>\n",
       "      <td>15748</td>\n",
       "      <td>6</td>\n",
       "      <td>21</td>\n",
       "      <td>3</td>\n",
       "      <td>0</td>\n",
       "      <td>11</td>\n",
       "      <td>True</td>\n",
       "      <td>31637</td>\n",
       "      <td>0.01</td>\n",
       "      <td>0.05</td>\n",
       "    </tr>\n",
       "    <tr>\n",
       "      <th>2</th>\n",
       "      <td>18</td>\n",
       "      <td>6</td>\n",
       "      <td>5</td>\n",
       "      <td>True</td>\n",
       "      <td>False</td>\n",
       "      <td>13858</td>\n",
       "      <td>MIDDLE</td>\n",
       "      <td>11</td>\n",
       "      <td>148</td>\n",
       "      <td>30404</td>\n",
       "      <td>6</td>\n",
       "      <td>8</td>\n",
       "      <td>0</td>\n",
       "      <td>0</td>\n",
       "      <td>5</td>\n",
       "      <td>True</td>\n",
       "      <td>26920</td>\n",
       "      <td>0.02</td>\n",
       "      <td>0.08</td>\n",
       "    </tr>\n",
       "    <tr>\n",
       "      <th>3</th>\n",
       "      <td>5</td>\n",
       "      <td>7</td>\n",
       "      <td>6</td>\n",
       "      <td>False</td>\n",
       "      <td>False</td>\n",
       "      <td>9292</td>\n",
       "      <td>BOTTOM</td>\n",
       "      <td>3</td>\n",
       "      <td>119</td>\n",
       "      <td>10578</td>\n",
       "      <td>3</td>\n",
       "      <td>3</td>\n",
       "      <td>1</td>\n",
       "      <td>1</td>\n",
       "      <td>2</td>\n",
       "      <td>True</td>\n",
       "      <td>15252</td>\n",
       "      <td>0.00</td>\n",
       "      <td>0.07</td>\n",
       "    </tr>\n",
       "    <tr>\n",
       "      <th>4</th>\n",
       "      <td>1</td>\n",
       "      <td>24</td>\n",
       "      <td>1</td>\n",
       "      <td>False</td>\n",
       "      <td>True</td>\n",
       "      <td>8284</td>\n",
       "      <td>UTILITY</td>\n",
       "      <td>0</td>\n",
       "      <td>14</td>\n",
       "      <td>7945</td>\n",
       "      <td>5</td>\n",
       "      <td>68</td>\n",
       "      <td>5</td>\n",
       "      <td>7</td>\n",
       "      <td>31</td>\n",
       "      <td>True</td>\n",
       "      <td>9916</td>\n",
       "      <td>0.01</td>\n",
       "      <td>0.01</td>\n",
       "    </tr>\n",
       "    <tr>\n",
       "      <th>...</th>\n",
       "      <td>...</td>\n",
       "      <td>...</td>\n",
       "      <td>...</td>\n",
       "      <td>...</td>\n",
       "      <td>...</td>\n",
       "      <td>...</td>\n",
       "      <td>...</td>\n",
       "      <td>...</td>\n",
       "      <td>...</td>\n",
       "      <td>...</td>\n",
       "      <td>...</td>\n",
       "      <td>...</td>\n",
       "      <td>...</td>\n",
       "      <td>...</td>\n",
       "      <td>...</td>\n",
       "      <td>...</td>\n",
       "      <td>...</td>\n",
       "      <td>...</td>\n",
       "      <td>...</td>\n",
       "    </tr>\n",
       "    <tr>\n",
       "      <th>99995</th>\n",
       "      <td>2</td>\n",
       "      <td>5</td>\n",
       "      <td>7</td>\n",
       "      <td>False</td>\n",
       "      <td>False</td>\n",
       "      <td>7291</td>\n",
       "      <td>TOP</td>\n",
       "      <td>2</td>\n",
       "      <td>116</td>\n",
       "      <td>11727</td>\n",
       "      <td>0</td>\n",
       "      <td>16</td>\n",
       "      <td>1</td>\n",
       "      <td>0</td>\n",
       "      <td>5</td>\n",
       "      <td>False</td>\n",
       "      <td>20570</td>\n",
       "      <td>0.00</td>\n",
       "      <td>0.16</td>\n",
       "    </tr>\n",
       "    <tr>\n",
       "      <th>99996</th>\n",
       "      <td>7</td>\n",
       "      <td>2</td>\n",
       "      <td>12</td>\n",
       "      <td>False</td>\n",
       "      <td>False</td>\n",
       "      <td>10471</td>\n",
       "      <td>JUNGLE</td>\n",
       "      <td>3</td>\n",
       "      <td>63</td>\n",
       "      <td>14657</td>\n",
       "      <td>0</td>\n",
       "      <td>14</td>\n",
       "      <td>1</td>\n",
       "      <td>0</td>\n",
       "      <td>7</td>\n",
       "      <td>False</td>\n",
       "      <td>25429</td>\n",
       "      <td>0.00</td>\n",
       "      <td>0.21</td>\n",
       "    </tr>\n",
       "    <tr>\n",
       "      <th>99997</th>\n",
       "      <td>4</td>\n",
       "      <td>4</td>\n",
       "      <td>10</td>\n",
       "      <td>False</td>\n",
       "      <td>False</td>\n",
       "      <td>8346</td>\n",
       "      <td>MIDDLE</td>\n",
       "      <td>2</td>\n",
       "      <td>120</td>\n",
       "      <td>15307</td>\n",
       "      <td>0</td>\n",
       "      <td>16</td>\n",
       "      <td>1</td>\n",
       "      <td>0</td>\n",
       "      <td>9</td>\n",
       "      <td>False</td>\n",
       "      <td>19701</td>\n",
       "      <td>0.01</td>\n",
       "      <td>0.14</td>\n",
       "    </tr>\n",
       "    <tr>\n",
       "      <th>99998</th>\n",
       "      <td>4</td>\n",
       "      <td>1</td>\n",
       "      <td>7</td>\n",
       "      <td>False</td>\n",
       "      <td>False</td>\n",
       "      <td>8547</td>\n",
       "      <td>BOTTOM</td>\n",
       "      <td>2</td>\n",
       "      <td>115</td>\n",
       "      <td>10052</td>\n",
       "      <td>0</td>\n",
       "      <td>17</td>\n",
       "      <td>1</td>\n",
       "      <td>3</td>\n",
       "      <td>9</td>\n",
       "      <td>False</td>\n",
       "      <td>19090</td>\n",
       "      <td>0.01</td>\n",
       "      <td>0.10</td>\n",
       "    </tr>\n",
       "    <tr>\n",
       "      <th>99999</th>\n",
       "      <td>2</td>\n",
       "      <td>6</td>\n",
       "      <td>10</td>\n",
       "      <td>False</td>\n",
       "      <td>False</td>\n",
       "      <td>6838</td>\n",
       "      <td>UTILITY</td>\n",
       "      <td>0</td>\n",
       "      <td>44</td>\n",
       "      <td>12472</td>\n",
       "      <td>0</td>\n",
       "      <td>23</td>\n",
       "      <td>0</td>\n",
       "      <td>0</td>\n",
       "      <td>16</td>\n",
       "      <td>False</td>\n",
       "      <td>17533</td>\n",
       "      <td>0.01</td>\n",
       "      <td>0.15</td>\n",
       "    </tr>\n",
       "  </tbody>\n",
       "</table>\n",
       "<p>100000 rows × 19 columns</p>\n",
       "</div>"
      ],
      "text/plain": [
       "       킬수  어시  데스  퍼블어시유무   퍼블유무  얻은 골드       라인  연속 킬  cs 수  챔피언에게 가한 피해량  \\\n",
       "0      15   3   6   False  False  14062      TOP     7   132         23814   \n",
       "1       4  19   4    True  False  10577   JUNGLE     3    18         15748   \n",
       "2      18   6   5    True  False  13858   MIDDLE    11   148         30404   \n",
       "3       5   7   6   False  False   9292   BOTTOM     3   119         10578   \n",
       "4       1  24   1   False   True   8284  UTILITY     0    14          7945   \n",
       "...    ..  ..  ..     ...    ...    ...      ...   ...   ...           ...   \n",
       "99995   2   5   7   False  False   7291      TOP     2   116         11727   \n",
       "99996   7   2  12   False  False  10471   JUNGLE     3    63         14657   \n",
       "99997   4   4  10   False  False   8346   MIDDLE     2   120         15307   \n",
       "99998   4   1   7   False  False   8547   BOTTOM     2   115         10052   \n",
       "99999   2   6  10   False  False   6838  UTILITY     0    44         12472   \n",
       "\n",
       "       포탑 골드 획득 갯수  시야점수  핑와산갯수  와드제거수  설치와드수    win  받은 피해량  \\\n",
       "0                4    10      0      0      7   True   28984   \n",
       "1                6    21      3      0     11   True   31637   \n",
       "2                6     8      0      0      5   True   26920   \n",
       "3                3     3      1      1      2   True   15252   \n",
       "4                5    68      5      7     31   True    9916   \n",
       "...            ...   ...    ...    ...    ...    ...     ...   \n",
       "99995            0    16      1      0      5  False   20570   \n",
       "99996            0    14      1      0      7  False   25429   \n",
       "99997            0    16      1      0      9  False   19701   \n",
       "99998            0    17      1      3      9  False   19090   \n",
       "99999            0    23      0      0     16  False   17533   \n",
       "\n",
       "       게임시간 대비 cc기 건 시간  게임시간 대비 죽은 시간  \n",
       "0                  0.02           0.09  \n",
       "1                  0.01           0.05  \n",
       "2                  0.02           0.08  \n",
       "3                  0.00           0.07  \n",
       "4                  0.01           0.01  \n",
       "...                 ...            ...  \n",
       "99995              0.00           0.16  \n",
       "99996              0.00           0.21  \n",
       "99997              0.01           0.14  \n",
       "99998              0.01           0.10  \n",
       "99999              0.01           0.15  \n",
       "\n",
       "[100000 rows x 19 columns]"
      ]
     },
     "execution_count": 4,
     "metadata": {},
     "output_type": "execute_result"
    }
   ],
   "source": [
    "df1['받은 피해량'] = df1['받은마법피해량'] + df1['받은물리피해량']\n",
    "df1['게임시간 대비 cc기 건 시간'] = round(df1['다른 챔피언에게 cc기를 건 시간'] / df1['게임 시간 (초)'],2)\n",
    "df1['게임시간 대비 죽은 시간'] = round(df1['부활 대기 죽은 시간'] / df1['게임 시간 (초)'],2)\n",
    "\n",
    "df1.drop(['받은마법피해량','받은물리피해량','부활 대기 죽은 시간','다른 챔피언에게 cc기를 건 시간','게임 시간 (초)'],axis=1,inplace=True)\n",
    "df1"
   ]
  },
  {
   "cell_type": "code",
   "execution_count": 5,
   "metadata": {},
   "outputs": [],
   "source": [
    "df1 = df1.loc[:,['라인','win','킬수','어시','데스','챔피언에게 가한 피해량','받은 피해량','얻은 골드','cs 수','포탑 골드 획득 갯수','퍼블유무','퍼블어시유무',\n",
    "'연속 킬','시야점수', '핑와산갯수', '와드제거수', '설치와드수','게임시간 대비 cc기 건 시간', '게임시간 대비 죽은 시간']]"
   ]
  },
  {
   "cell_type": "code",
   "execution_count": 6,
   "metadata": {},
   "outputs": [],
   "source": [
    "df1 = df1[df1['라인'] != 'Invalid']"
   ]
  },
  {
   "cell_type": "code",
   "execution_count": 14,
   "metadata": {},
   "outputs": [
    {
     "name": "stderr",
     "output_type": "stream",
     "text": [
      "C:\\Users\\ice_9\\AppData\\Local\\Temp\\ipykernel_11860\\3950399719.py:2: FutureWarning: In a future version of pandas all arguments of DataFrame.drop except for the argument 'labels' will be keyword-only.\n",
      "  df2 = df2.drop('라인',1)\n"
     ]
    }
   ],
   "source": [
    "df2 = df1[df1['라인'] == 'TOP']\n",
    "df2 = df2.drop('라인',1)\n",
    "df2.to_csv('data/탑.csv')"
   ]
  },
  {
   "cell_type": "code",
   "execution_count": 15,
   "metadata": {},
   "outputs": [
    {
     "name": "stderr",
     "output_type": "stream",
     "text": [
      "C:\\Users\\ice_9\\AppData\\Local\\Temp\\ipykernel_11860\\2225405072.py:2: FutureWarning: In a future version of pandas all arguments of DataFrame.drop except for the argument 'labels' will be keyword-only.\n",
      "  df2 = df2.drop('라인',1)\n"
     ]
    }
   ],
   "source": [
    "df2 = df1[df1['라인'] == 'JUNGLE']\n",
    "df2 = df2.drop('라인',1)\n",
    "df2.to_csv('data/정글.csv')"
   ]
  },
  {
   "cell_type": "code",
   "execution_count": 16,
   "metadata": {},
   "outputs": [
    {
     "name": "stderr",
     "output_type": "stream",
     "text": [
      "C:\\Users\\ice_9\\AppData\\Local\\Temp\\ipykernel_11860\\2835994387.py:2: FutureWarning: In a future version of pandas all arguments of DataFrame.drop except for the argument 'labels' will be keyword-only.\n",
      "  df2 = df2.drop('라인',1)\n"
     ]
    }
   ],
   "source": [
    "df2 = df1[df1['라인'] == 'MIDDLE']\n",
    "df2 = df2.drop('라인',1)\n",
    "df2.to_csv('data/미드.csv')"
   ]
  },
  {
   "cell_type": "code",
   "execution_count": 17,
   "metadata": {},
   "outputs": [
    {
     "name": "stderr",
     "output_type": "stream",
     "text": [
      "C:\\Users\\ice_9\\AppData\\Local\\Temp\\ipykernel_11860\\2892683407.py:2: FutureWarning: In a future version of pandas all arguments of DataFrame.drop except for the argument 'labels' will be keyword-only.\n",
      "  df2 = df2.drop('라인',1)\n"
     ]
    }
   ],
   "source": [
    "df2 = df1[df1['라인'] == 'BOTTOM']\n",
    "df2 = df2.drop('라인',1)\n",
    "df2.to_csv('data/원딜.csv')"
   ]
  },
  {
   "cell_type": "code",
   "execution_count": 18,
   "metadata": {},
   "outputs": [
    {
     "name": "stderr",
     "output_type": "stream",
     "text": [
      "C:\\Users\\ice_9\\AppData\\Local\\Temp\\ipykernel_11860\\834702100.py:2: FutureWarning: In a future version of pandas all arguments of DataFrame.drop except for the argument 'labels' will be keyword-only.\n",
      "  df2 = df2.drop('라인',1)\n"
     ]
    }
   ],
   "source": [
    "df2 = df1[df1['라인'] == 'UTILITY']\n",
    "df2 = df2.drop('라인',1)\n",
    "df2.to_csv('data/서폿.csv')"
   ]
  },
  {
   "cell_type": "code",
   "execution_count": 45,
   "metadata": {},
   "outputs": [],
   "source": [
    "df1 = pd.get_dummies(data=df1, columns=['라인'])"
   ]
  },
  {
   "cell_type": "code",
   "execution_count": 47,
   "metadata": {},
   "outputs": [],
   "source": [
    "df1.to_csv('모델돌릴꺼.csv')"
   ]
  },
  {
   "cell_type": "code",
   "execution_count": null,
   "metadata": {},
   "outputs": [],
   "source": []
  }
 ],
 "metadata": {
  "kernelspec": {
   "display_name": "Python 3.9.12 ('base')",
   "language": "python",
   "name": "python3"
  },
  "language_info": {
   "codemirror_mode": {
    "name": "ipython",
    "version": 3
   },
   "file_extension": ".py",
   "mimetype": "text/x-python",
   "name": "python",
   "nbconvert_exporter": "python",
   "pygments_lexer": "ipython3",
   "version": "3.9.12"
  },
  "orig_nbformat": 4,
  "vscode": {
   "interpreter": {
    "hash": "66a9da18caf10d712c2a7145ebee24072bdfaa6f0e06b1e12fab07798beb6c4b"
   }
  }
 },
 "nbformat": 4,
 "nbformat_minor": 2
}
