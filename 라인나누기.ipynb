{
 "cells": [
  {
   "cell_type": "code",
   "execution_count": 13,
   "metadata": {},
   "outputs": [],
   "source": [
    "import pandas as pd\n",
    "df = pd.read_csv('data/모델돌릴꺼2.csv')\n"
   ]
  },
  {
   "cell_type": "code",
   "execution_count": 4,
   "metadata": {},
   "outputs": [],
   "source": [
    "df = df[df['라인'] == 'UTILITY']"
   ]
  },
  {
   "cell_type": "code",
   "execution_count": 7,
   "metadata": {},
   "outputs": [
    {
     "name": "stderr",
     "output_type": "stream",
     "text": [
      "C:\\Users\\ice_9\\AppData\\Local\\Temp\\ipykernel_24836\\2132147065.py:1: FutureWarning: In a future version of pandas all arguments of DataFrame.drop except for the argument 'labels' will be keyword-only.\n",
      "  df = df.drop(['Unnamed: 0','라인'],1)\n"
     ]
    }
   ],
   "source": [
    "df = df.drop(['Unnamed: 0','라인'],1)"
   ]
  },
  {
   "cell_type": "code",
   "execution_count": 8,
   "metadata": {},
   "outputs": [],
   "source": [
    "df.to_csv('data/서폿.csv')"
   ]
  },
  {
   "cell_type": "code",
   "execution_count": 10,
   "metadata": {},
   "outputs": [
    {
     "name": "stderr",
     "output_type": "stream",
     "text": [
      "C:\\Users\\ice_9\\AppData\\Local\\Temp\\ipykernel_24836\\988554808.py:2: FutureWarning: In a future version of pandas all arguments of DataFrame.drop except for the argument 'labels' will be keyword-only.\n",
      "  df = df.drop(['Unnamed: 0','라인'],1)\n"
     ]
    }
   ],
   "source": [
    "df = df[df['라인'] == 'JUNGLE']\n",
    "df = df.drop(['Unnamed: 0','라인'],1) "
   ]
  },
  {
   "cell_type": "code",
   "execution_count": 12,
   "metadata": {},
   "outputs": [],
   "source": [
    "df.to_csv('data/정글.csv')"
   ]
  },
  {
   "cell_type": "code",
   "execution_count": 14,
   "metadata": {},
   "outputs": [
    {
     "name": "stderr",
     "output_type": "stream",
     "text": [
      "C:\\Users\\ice_9\\AppData\\Local\\Temp\\ipykernel_24836\\3384529937.py:2: FutureWarning: In a future version of pandas all arguments of DataFrame.drop except for the argument 'labels' will be keyword-only.\n",
      "  df = df.drop(['Unnamed: 0','라인'],1)\n"
     ]
    }
   ],
   "source": [
    "df = df[df['라인'] == 'BOTTOM']\n",
    "df = df.drop(['Unnamed: 0','라인'],1)\n",
    "df.to_csv('data/원딜.csv')"
   ]
  }
 ],
 "metadata": {
  "kernelspec": {
   "display_name": "Python 3.9.12 ('base')",
   "language": "python",
   "name": "python3"
  },
  "language_info": {
   "codemirror_mode": {
    "name": "ipython",
    "version": 3
   },
   "file_extension": ".py",
   "mimetype": "text/x-python",
   "name": "python",
   "nbconvert_exporter": "python",
   "pygments_lexer": "ipython3",
   "version": "3.9.12"
  },
  "orig_nbformat": 4,
  "vscode": {
   "interpreter": {
    "hash": "66a9da18caf10d712c2a7145ebee24072bdfaa6f0e06b1e12fab07798beb6c4b"
   }
  }
 },
 "nbformat": 4,
 "nbformat_minor": 2
}
