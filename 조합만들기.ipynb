{
 "cells": [
  {
   "cell_type": "code",
   "execution_count": 1,
   "metadata": {},
   "outputs": [],
   "source": [
    "import pandas as pd"
   ]
  },
  {
   "cell_type": "markdown",
   "metadata": {},
   "source": [
    "### 데이터 가져오기"
   ]
  },
  {
   "cell_type": "code",
   "execution_count": 9,
   "metadata": {},
   "outputs": [
    {
     "name": "stderr",
     "output_type": "stream",
     "text": [
      "C:\\Users\\sujong\\AppData\\Local\\Temp\\ipykernel_16804\\136090758.py:1: DtypeWarning: Columns (2) have mixed types. Specify dtype option on import or set low_memory=False.\n",
      "  df = pd.read_csv('data/10000matches_컬럼한글.csv', encoding='cp949')\n"
     ]
    },
    {
     "data": {
      "text/html": [
       "<div>\n",
       "<style scoped>\n",
       "    .dataframe tbody tr th:only-of-type {\n",
       "        vertical-align: middle;\n",
       "    }\n",
       "\n",
       "    .dataframe tbody tr th {\n",
       "        vertical-align: top;\n",
       "    }\n",
       "\n",
       "    .dataframe thead th {\n",
       "        text-align: right;\n",
       "    }\n",
       "</style>\n",
       "<table border=\"1\" class=\"dataframe\">\n",
       "  <thead>\n",
       "    <tr style=\"text-align: right;\">\n",
       "      <th></th>\n",
       "      <th>Unnamed: 0</th>\n",
       "      <th>어시</th>\n",
       "      <th>GameID</th>\n",
       "      <th>GameMode</th>\n",
       "      <th>바론킬</th>\n",
       "      <th>bountyLevel</th>\n",
       "      <th>champExperience</th>\n",
       "      <th>챔피언 레벨</th>\n",
       "      <th>챔피언</th>\n",
       "      <th>damageDealtToObjectives</th>\n",
       "      <th>...</th>\n",
       "      <th>totalTimeSpentDead</th>\n",
       "      <th>trueDamageDealtToChampions</th>\n",
       "      <th>trueDamageTaken</th>\n",
       "      <th>turretTakedowns</th>\n",
       "      <th>turretsLost</th>\n",
       "      <th>시야점수</th>\n",
       "      <th>핑와산갯수</th>\n",
       "      <th>와드제거수</th>\n",
       "      <th>설치와드수</th>\n",
       "      <th>win</th>\n",
       "    </tr>\n",
       "  </thead>\n",
       "  <tbody>\n",
       "    <tr>\n",
       "      <th>0</th>\n",
       "      <td>0</td>\n",
       "      <td>20</td>\n",
       "      <td>NA1_4430908515</td>\n",
       "      <td>ARAM</td>\n",
       "      <td>0</td>\n",
       "      <td>0</td>\n",
       "      <td>14531</td>\n",
       "      <td>15</td>\n",
       "      <td>Ashe</td>\n",
       "      <td>112</td>\n",
       "      <td>...</td>\n",
       "      <td>74</td>\n",
       "      <td>797</td>\n",
       "      <td>465</td>\n",
       "      <td>1</td>\n",
       "      <td>4</td>\n",
       "      <td>5</td>\n",
       "      <td>0</td>\n",
       "      <td>0</td>\n",
       "      <td>0</td>\n",
       "      <td>False</td>\n",
       "    </tr>\n",
       "    <tr>\n",
       "      <th>1</th>\n",
       "      <td>0</td>\n",
       "      <td>3</td>\n",
       "      <td>4035079604</td>\n",
       "      <td>CLASSIC</td>\n",
       "      <td>0</td>\n",
       "      <td>3</td>\n",
       "      <td>15453</td>\n",
       "      <td>16</td>\n",
       "      <td>Sett</td>\n",
       "      <td>18147</td>\n",
       "      <td>...</td>\n",
       "      <td>156</td>\n",
       "      <td>2556</td>\n",
       "      <td>686</td>\n",
       "      <td>4</td>\n",
       "      <td>4</td>\n",
       "      <td>10</td>\n",
       "      <td>0</td>\n",
       "      <td>0</td>\n",
       "      <td>7</td>\n",
       "      <td>True</td>\n",
       "    </tr>\n",
       "  </tbody>\n",
       "</table>\n",
       "<p>2 rows × 69 columns</p>\n",
       "</div>"
      ],
      "text/plain": [
       "   Unnamed: 0  어시          GameID GameMode  바론킬  bountyLevel  champExperience  \\\n",
       "0           0  20  NA1_4430908515     ARAM    0            0            14531   \n",
       "1           0   3      4035079604  CLASSIC    0            3            15453   \n",
       "\n",
       "   챔피언 레벨   챔피언  damageDealtToObjectives  ...  totalTimeSpentDead  \\\n",
       "0      15  Ashe                      112  ...                  74   \n",
       "1      16  Sett                    18147  ...                 156   \n",
       "\n",
       "   trueDamageDealtToChampions  trueDamageTaken  turretTakedowns  turretsLost  \\\n",
       "0                         797              465                1            4   \n",
       "1                        2556              686                4            4   \n",
       "\n",
       "   시야점수  핑와산갯수  와드제거수 설치와드수    win  \n",
       "0     5      0      0     0  False  \n",
       "1    10      0      0     7   True  \n",
       "\n",
       "[2 rows x 69 columns]"
      ]
     },
     "execution_count": 9,
     "metadata": {},
     "output_type": "execute_result"
    }
   ],
   "source": [
    "df = pd.read_csv('data/10000matches_컬럼한글.csv', encoding='cp949')\n",
    "df.head(2)"
   ]
  },
  {
   "cell_type": "code",
   "execution_count": 10,
   "metadata": {},
   "outputs": [
    {
     "data": {
      "text/plain": [
       "Index(['Unnamed: 0', '어시', 'GameID', 'GameMode', '바론킬', 'bountyLevel',\n",
       "       'champExperience', '챔피언 레벨', '챔피언', 'damageDealtToObjectives',\n",
       "       'damageSelfMitigated', '데스', '드래곤킬', '퍼블어시유무', '퍼블유무', '서렌으로끝났는지',\n",
       "       'goldEarned', 'goldSpent', '라인', '억제기킬', '억제기잃은수', 'item0', 'item1',\n",
       "       'item2', 'item3', 'item4', 'item5', 'item6', '킬수', 'lane', '젤높은치명타데미지',\n",
       "       'largestKillingSpree', 'longestTimeSpentLiving', '챔피언에게가한마법피해량',\n",
       "       '받은마법피해량', 'nexusLost', '오브젝트스틸', '챔피언에게입힌물리피해량', '받은물리피해량',\n",
       "       'spell1Casts', 'spell2Casts', 'spell3Casts', 'spell4Casts',\n",
       "       'summoner1Casts', 'summoner1Id', 'summoner2Casts', 'summoner2Id',\n",
       "       'summonerId', 'teamEarlySurrendered', 'teamId', 'timeCCingOthers',\n",
       "       'timePlayed', 'totalDamageDealtToChampions',\n",
       "       'totalDamageShieldedOnTeammates', 'totalDamageTaken', 'totalHeal',\n",
       "       'totalHealsOnTeammates', 'totalMinionsKilled', 'totalTimeCCDealt',\n",
       "       'totalTimeSpentDead', 'trueDamageDealtToChampions', 'trueDamageTaken',\n",
       "       'turretTakedowns', 'turretsLost', '시야점수', '핑와산갯수', '와드제거수', '설치와드수',\n",
       "       'win'],\n",
       "      dtype='object')"
      ]
     },
     "execution_count": 10,
     "metadata": {},
     "output_type": "execute_result"
    }
   ],
   "source": [
    "df.columns"
   ]
  },
  {
   "cell_type": "markdown",
   "metadata": {},
   "source": [
    "### 전처리 위해 필요한 데이터만 가져옴"
   ]
  },
  {
   "cell_type": "code",
   "execution_count": 14,
   "metadata": {},
   "outputs": [
    {
     "data": {
      "text/html": [
       "<div>\n",
       "<style scoped>\n",
       "    .dataframe tbody tr th:only-of-type {\n",
       "        vertical-align: middle;\n",
       "    }\n",
       "\n",
       "    .dataframe tbody tr th {\n",
       "        vertical-align: top;\n",
       "    }\n",
       "\n",
       "    .dataframe thead th {\n",
       "        text-align: right;\n",
       "    }\n",
       "</style>\n",
       "<table border=\"1\" class=\"dataframe\">\n",
       "  <thead>\n",
       "    <tr style=\"text-align: right;\">\n",
       "      <th></th>\n",
       "      <th>teamEarlySurrendered</th>\n",
       "      <th>win</th>\n",
       "      <th>라인</th>\n",
       "      <th>GameID</th>\n",
       "      <th>GameMode</th>\n",
       "      <th>teamId</th>\n",
       "      <th>챔피언</th>\n",
       "    </tr>\n",
       "  </thead>\n",
       "  <tbody>\n",
       "    <tr>\n",
       "      <th>0</th>\n",
       "      <td>False</td>\n",
       "      <td>False</td>\n",
       "      <td>Invalid</td>\n",
       "      <td>NA1_4430908515</td>\n",
       "      <td>ARAM</td>\n",
       "      <td>100</td>\n",
       "      <td>Ashe</td>\n",
       "    </tr>\n",
       "    <tr>\n",
       "      <th>1</th>\n",
       "      <td>False</td>\n",
       "      <td>True</td>\n",
       "      <td>TOP</td>\n",
       "      <td>4035079604</td>\n",
       "      <td>CLASSIC</td>\n",
       "      <td>100</td>\n",
       "      <td>Sett</td>\n",
       "    </tr>\n",
       "  </tbody>\n",
       "</table>\n",
       "</div>"
      ],
      "text/plain": [
       "   teamEarlySurrendered    win       라인          GameID GameMode  teamId   챔피언\n",
       "0                 False  False  Invalid  NA1_4430908515     ARAM     100  Ashe\n",
       "1                 False   True      TOP      4035079604  CLASSIC     100  Sett"
      ]
     },
     "execution_count": 14,
     "metadata": {},
     "output_type": "execute_result"
    }
   ],
   "source": [
    "df_sub = df[['teamEarlySurrendered','win','라인','GameID','GameMode','teamId','챔피언']]\n",
    "df_sub.head(2)"
   ]
  },
  {
   "cell_type": "markdown",
   "metadata": {},
   "source": [
    "### 소환사 협곡만 확인"
   ]
  },
  {
   "cell_type": "code",
   "execution_count": 16,
   "metadata": {},
   "outputs": [
    {
     "data": {
      "text/html": [
       "<div>\n",
       "<style scoped>\n",
       "    .dataframe tbody tr th:only-of-type {\n",
       "        vertical-align: middle;\n",
       "    }\n",
       "\n",
       "    .dataframe tbody tr th {\n",
       "        vertical-align: top;\n",
       "    }\n",
       "\n",
       "    .dataframe thead th {\n",
       "        text-align: right;\n",
       "    }\n",
       "</style>\n",
       "<table border=\"1\" class=\"dataframe\">\n",
       "  <thead>\n",
       "    <tr style=\"text-align: right;\">\n",
       "      <th></th>\n",
       "      <th>teamEarlySurrendered</th>\n",
       "      <th>win</th>\n",
       "      <th>라인</th>\n",
       "      <th>GameID</th>\n",
       "      <th>GameMode</th>\n",
       "      <th>teamId</th>\n",
       "      <th>챔피언</th>\n",
       "    </tr>\n",
       "  </thead>\n",
       "  <tbody>\n",
       "    <tr>\n",
       "      <th>1</th>\n",
       "      <td>False</td>\n",
       "      <td>True</td>\n",
       "      <td>TOP</td>\n",
       "      <td>4035079604</td>\n",
       "      <td>CLASSIC</td>\n",
       "      <td>100</td>\n",
       "      <td>Sett</td>\n",
       "    </tr>\n",
       "    <tr>\n",
       "      <th>2</th>\n",
       "      <td>False</td>\n",
       "      <td>True</td>\n",
       "      <td>JUNGLE</td>\n",
       "      <td>4035079604</td>\n",
       "      <td>CLASSIC</td>\n",
       "      <td>100</td>\n",
       "      <td>Trundle</td>\n",
       "    </tr>\n",
       "  </tbody>\n",
       "</table>\n",
       "</div>"
      ],
      "text/plain": [
       "   teamEarlySurrendered   win      라인      GameID GameMode  teamId      챔피언\n",
       "1                 False  True     TOP  4035079604  CLASSIC     100     Sett\n",
       "2                 False  True  JUNGLE  4035079604  CLASSIC     100  Trundle"
      ]
     },
     "execution_count": 16,
     "metadata": {},
     "output_type": "execute_result"
    }
   ],
   "source": [
    "df_sub = df_sub[df_sub['GameMode']=='CLASSIC']"
   ]
  },
  {
   "cell_type": "markdown",
   "metadata": {},
   "source": [
    "### 다시하기 아닌 게임"
   ]
  },
  {
   "cell_type": "code",
   "execution_count": 18,
   "metadata": {},
   "outputs": [
    {
     "data": {
      "text/plain": [
       "array([False])"
      ]
     },
     "execution_count": 18,
     "metadata": {},
     "output_type": "execute_result"
    }
   ],
   "source": [
    "df_sub = df_sub[df_sub['teamEarlySurrendered']==False]\n",
    "df_sub['teamEarlySurrendered'].unique()"
   ]
  },
  {
   "cell_type": "markdown",
   "metadata": {},
   "source": [
    "### 사용하지 않는 다시하기 게임모드 컬럼 제거"
   ]
  },
  {
   "cell_type": "code",
   "execution_count": 23,
   "metadata": {},
   "outputs": [
    {
     "data": {
      "text/html": [
       "<div>\n",
       "<style scoped>\n",
       "    .dataframe tbody tr th:only-of-type {\n",
       "        vertical-align: middle;\n",
       "    }\n",
       "\n",
       "    .dataframe tbody tr th {\n",
       "        vertical-align: top;\n",
       "    }\n",
       "\n",
       "    .dataframe thead th {\n",
       "        text-align: right;\n",
       "    }\n",
       "</style>\n",
       "<table border=\"1\" class=\"dataframe\">\n",
       "  <thead>\n",
       "    <tr style=\"text-align: right;\">\n",
       "      <th></th>\n",
       "      <th>win</th>\n",
       "      <th>라인</th>\n",
       "      <th>GameID</th>\n",
       "      <th>teamId</th>\n",
       "      <th>챔피언</th>\n",
       "    </tr>\n",
       "  </thead>\n",
       "  <tbody>\n",
       "    <tr>\n",
       "      <th>1</th>\n",
       "      <td>True</td>\n",
       "      <td>TOP</td>\n",
       "      <td>4035079604</td>\n",
       "      <td>100</td>\n",
       "      <td>Sett</td>\n",
       "    </tr>\n",
       "    <tr>\n",
       "      <th>2</th>\n",
       "      <td>True</td>\n",
       "      <td>JUNGLE</td>\n",
       "      <td>4035079604</td>\n",
       "      <td>100</td>\n",
       "      <td>Trundle</td>\n",
       "    </tr>\n",
       "    <tr>\n",
       "      <th>3</th>\n",
       "      <td>True</td>\n",
       "      <td>MIDDLE</td>\n",
       "      <td>4035079604</td>\n",
       "      <td>100</td>\n",
       "      <td>Sylas</td>\n",
       "    </tr>\n",
       "    <tr>\n",
       "      <th>4</th>\n",
       "      <td>True</td>\n",
       "      <td>BOTTOM</td>\n",
       "      <td>4035079604</td>\n",
       "      <td>100</td>\n",
       "      <td>KogMaw</td>\n",
       "    </tr>\n",
       "    <tr>\n",
       "      <th>5</th>\n",
       "      <td>True</td>\n",
       "      <td>UTILITY</td>\n",
       "      <td>4035079604</td>\n",
       "      <td>100</td>\n",
       "      <td>Nami</td>\n",
       "    </tr>\n",
       "    <tr>\n",
       "      <th>6</th>\n",
       "      <td>False</td>\n",
       "      <td>TOP</td>\n",
       "      <td>4035079604</td>\n",
       "      <td>200</td>\n",
       "      <td>Yone</td>\n",
       "    </tr>\n",
       "    <tr>\n",
       "      <th>7</th>\n",
       "      <td>False</td>\n",
       "      <td>JUNGLE</td>\n",
       "      <td>4035079604</td>\n",
       "      <td>200</td>\n",
       "      <td>Viego</td>\n",
       "    </tr>\n",
       "    <tr>\n",
       "      <th>8</th>\n",
       "      <td>False</td>\n",
       "      <td>MIDDLE</td>\n",
       "      <td>4035079604</td>\n",
       "      <td>200</td>\n",
       "      <td>Yasuo</td>\n",
       "    </tr>\n",
       "    <tr>\n",
       "      <th>9</th>\n",
       "      <td>False</td>\n",
       "      <td>BOTTOM</td>\n",
       "      <td>4035079604</td>\n",
       "      <td>200</td>\n",
       "      <td>Caitlyn</td>\n",
       "    </tr>\n",
       "    <tr>\n",
       "      <th>10</th>\n",
       "      <td>False</td>\n",
       "      <td>UTILITY</td>\n",
       "      <td>4035079604</td>\n",
       "      <td>200</td>\n",
       "      <td>Swain</td>\n",
       "    </tr>\n",
       "  </tbody>\n",
       "</table>\n",
       "</div>"
      ],
      "text/plain": [
       "      win       라인      GameID  teamId      챔피언\n",
       "1    True      TOP  4035079604     100     Sett\n",
       "2    True   JUNGLE  4035079604     100  Trundle\n",
       "3    True   MIDDLE  4035079604     100    Sylas\n",
       "4    True   BOTTOM  4035079604     100   KogMaw\n",
       "5    True  UTILITY  4035079604     100     Nami\n",
       "6   False      TOP  4035079604     200     Yone\n",
       "7   False   JUNGLE  4035079604     200    Viego\n",
       "8   False   MIDDLE  4035079604     200    Yasuo\n",
       "9   False   BOTTOM  4035079604     200  Caitlyn\n",
       "10  False  UTILITY  4035079604     200    Swain"
      ]
     },
     "execution_count": 23,
     "metadata": {},
     "output_type": "execute_result"
    }
   ],
   "source": [
    "df_sub[df_sub['GameID']=='4035079604']"
   ]
  },
  {
   "cell_type": "markdown",
   "metadata": {},
   "source": [
    "### invalid 수정한 코드"
   ]
  },
  {
   "cell_type": "code",
   "execution_count": 29,
   "metadata": {},
   "outputs": [],
   "source": [
    "# df_sub = df_sub.loc[df_sub['GameID']!='4035112887']"
   ]
  },
  {
   "cell_type": "code",
   "execution_count": 112,
   "metadata": {},
   "outputs": [
    {
     "data": {
      "text/plain": [
       "'BOTTOM'"
      ]
     },
     "execution_count": 112,
     "metadata": {},
     "output_type": "execute_result"
    }
   ],
   "source": [
    "# df_sub.loc[99309, '라인'] = 'BOTTOM'\n",
    "# df_sub.loc[99309, '라인']"
   ]
  },
  {
   "cell_type": "code",
   "execution_count": 110,
   "metadata": {},
   "outputs": [
    {
     "data": {
      "text/html": [
       "<div>\n",
       "<style scoped>\n",
       "    .dataframe tbody tr th:only-of-type {\n",
       "        vertical-align: middle;\n",
       "    }\n",
       "\n",
       "    .dataframe tbody tr th {\n",
       "        vertical-align: top;\n",
       "    }\n",
       "\n",
       "    .dataframe thead th {\n",
       "        text-align: right;\n",
       "    }\n",
       "</style>\n",
       "<table border=\"1\" class=\"dataframe\">\n",
       "  <thead>\n",
       "    <tr style=\"text-align: right;\">\n",
       "      <th></th>\n",
       "      <th>win</th>\n",
       "      <th>라인</th>\n",
       "      <th>GameID</th>\n",
       "      <th>teamId</th>\n",
       "      <th>챔피언</th>\n",
       "    </tr>\n",
       "  </thead>\n",
       "  <tbody>\n",
       "    <tr>\n",
       "      <th>99301</th>\n",
       "      <td>True</td>\n",
       "      <td>TOP</td>\n",
       "      <td>4035204512</td>\n",
       "      <td>100</td>\n",
       "      <td>Trundle</td>\n",
       "    </tr>\n",
       "    <tr>\n",
       "      <th>99302</th>\n",
       "      <td>True</td>\n",
       "      <td>JUNGLE</td>\n",
       "      <td>4035204512</td>\n",
       "      <td>100</td>\n",
       "      <td>Amumu</td>\n",
       "    </tr>\n",
       "    <tr>\n",
       "      <th>99303</th>\n",
       "      <td>True</td>\n",
       "      <td>MIDDLE</td>\n",
       "      <td>4035204512</td>\n",
       "      <td>100</td>\n",
       "      <td>Sivir</td>\n",
       "    </tr>\n",
       "    <tr>\n",
       "      <th>99304</th>\n",
       "      <td>True</td>\n",
       "      <td>BOTTOM</td>\n",
       "      <td>4035204512</td>\n",
       "      <td>100</td>\n",
       "      <td>Jhin</td>\n",
       "    </tr>\n",
       "    <tr>\n",
       "      <th>99305</th>\n",
       "      <td>True</td>\n",
       "      <td>UTILITY</td>\n",
       "      <td>4035204512</td>\n",
       "      <td>100</td>\n",
       "      <td>Morgana</td>\n",
       "    </tr>\n",
       "    <tr>\n",
       "      <th>99306</th>\n",
       "      <td>False</td>\n",
       "      <td>Invalid</td>\n",
       "      <td>4035204512</td>\n",
       "      <td>200</td>\n",
       "      <td>Illaoi</td>\n",
       "    </tr>\n",
       "    <tr>\n",
       "      <th>99307</th>\n",
       "      <td>False</td>\n",
       "      <td>JUNGLE</td>\n",
       "      <td>4035204512</td>\n",
       "      <td>200</td>\n",
       "      <td>Malphite</td>\n",
       "    </tr>\n",
       "    <tr>\n",
       "      <th>99308</th>\n",
       "      <td>False</td>\n",
       "      <td>MIDDLE</td>\n",
       "      <td>4035204512</td>\n",
       "      <td>200</td>\n",
       "      <td>Anivia</td>\n",
       "    </tr>\n",
       "    <tr>\n",
       "      <th>99309</th>\n",
       "      <td>False</td>\n",
       "      <td>UTILITY</td>\n",
       "      <td>4035204512</td>\n",
       "      <td>200</td>\n",
       "      <td>Ezreal</td>\n",
       "    </tr>\n",
       "    <tr>\n",
       "      <th>99310</th>\n",
       "      <td>False</td>\n",
       "      <td>UTILITY</td>\n",
       "      <td>4035204512</td>\n",
       "      <td>200</td>\n",
       "      <td>Lux</td>\n",
       "    </tr>\n",
       "  </tbody>\n",
       "</table>\n",
       "</div>"
      ],
      "text/plain": [
       "         win       라인      GameID  teamId       챔피언\n",
       "99301   True      TOP  4035204512     100   Trundle\n",
       "99302   True   JUNGLE  4035204512     100     Amumu\n",
       "99303   True   MIDDLE  4035204512     100     Sivir\n",
       "99304   True   BOTTOM  4035204512     100      Jhin\n",
       "99305   True  UTILITY  4035204512     100   Morgana\n",
       "99306  False  Invalid  4035204512     200    Illaoi\n",
       "99307  False   JUNGLE  4035204512     200  Malphite\n",
       "99308  False   MIDDLE  4035204512     200    Anivia\n",
       "99309  False  UTILITY  4035204512     200    Ezreal\n",
       "99310  False  UTILITY  4035204512     200       Lux"
      ]
     },
     "execution_count": 110,
     "metadata": {},
     "output_type": "execute_result"
    }
   ],
   "source": [
    "# df_sub[df_sub['GameID']==4035204512]"
   ]
  },
  {
   "cell_type": "code",
   "execution_count": 113,
   "metadata": {},
   "outputs": [
    {
     "data": {
      "text/html": [
       "<div>\n",
       "<style scoped>\n",
       "    .dataframe tbody tr th:only-of-type {\n",
       "        vertical-align: middle;\n",
       "    }\n",
       "\n",
       "    .dataframe tbody tr th {\n",
       "        vertical-align: top;\n",
       "    }\n",
       "\n",
       "    .dataframe thead th {\n",
       "        text-align: right;\n",
       "    }\n",
       "</style>\n",
       "<table border=\"1\" class=\"dataframe\">\n",
       "  <thead>\n",
       "    <tr style=\"text-align: right;\">\n",
       "      <th></th>\n",
       "      <th>win</th>\n",
       "      <th>라인</th>\n",
       "      <th>GameID</th>\n",
       "      <th>teamId</th>\n",
       "      <th>챔피언</th>\n",
       "    </tr>\n",
       "  </thead>\n",
       "  <tbody>\n",
       "  </tbody>\n",
       "</table>\n",
       "</div>"
      ],
      "text/plain": [
       "Empty DataFrame\n",
       "Columns: [win, 라인, GameID, teamId, 챔피언]\n",
       "Index: []"
      ]
     },
     "execution_count": 113,
     "metadata": {},
     "output_type": "execute_result"
    }
   ],
   "source": [
    "df_sub[df_sub['라인']=='Invalid']"
   ]
  },
  {
   "cell_type": "code",
   "execution_count": 20,
   "metadata": {},
   "outputs": [
    {
     "data": {
      "text/plain": [
       "array(['TOP', 'JUNGLE', 'MIDDLE', 'BOTTOM', 'UTILITY', 'Invalid'],\n",
       "      dtype=object)"
      ]
     },
     "execution_count": 20,
     "metadata": {},
     "output_type": "execute_result"
    }
   ],
   "source": [
    "# df_sub['라인'].unique()"
   ]
  },
  {
   "cell_type": "markdown",
   "metadata": {},
   "source": [
    "### 사용하지 않는 컬럼 제거"
   ]
  },
  {
   "cell_type": "code",
   "execution_count": 19,
   "metadata": {},
   "outputs": [
    {
     "name": "stderr",
     "output_type": "stream",
     "text": [
      "C:\\Users\\sujong\\AppData\\Local\\Temp\\ipykernel_16804\\3458126277.py:1: FutureWarning: In a future version of pandas all arguments of DataFrame.drop except for the argument 'labels' will be keyword-only.\n",
      "  df_sub.drop(['teamEarlySurrendered', 'GameMode'], 1, inplace=True)\n"
     ]
    },
    {
     "data": {
      "text/html": [
       "<div>\n",
       "<style scoped>\n",
       "    .dataframe tbody tr th:only-of-type {\n",
       "        vertical-align: middle;\n",
       "    }\n",
       "\n",
       "    .dataframe tbody tr th {\n",
       "        vertical-align: top;\n",
       "    }\n",
       "\n",
       "    .dataframe thead th {\n",
       "        text-align: right;\n",
       "    }\n",
       "</style>\n",
       "<table border=\"1\" class=\"dataframe\">\n",
       "  <thead>\n",
       "    <tr style=\"text-align: right;\">\n",
       "      <th></th>\n",
       "      <th>win</th>\n",
       "      <th>라인</th>\n",
       "      <th>GameID</th>\n",
       "      <th>teamId</th>\n",
       "      <th>챔피언</th>\n",
       "    </tr>\n",
       "  </thead>\n",
       "  <tbody>\n",
       "    <tr>\n",
       "      <th>1</th>\n",
       "      <td>True</td>\n",
       "      <td>TOP</td>\n",
       "      <td>4035079604</td>\n",
       "      <td>100</td>\n",
       "      <td>Sett</td>\n",
       "    </tr>\n",
       "    <tr>\n",
       "      <th>2</th>\n",
       "      <td>True</td>\n",
       "      <td>JUNGLE</td>\n",
       "      <td>4035079604</td>\n",
       "      <td>100</td>\n",
       "      <td>Trundle</td>\n",
       "    </tr>\n",
       "  </tbody>\n",
       "</table>\n",
       "</div>"
      ],
      "text/plain": [
       "    win      라인      GameID  teamId      챔피언\n",
       "1  True     TOP  4035079604     100     Sett\n",
       "2  True  JUNGLE  4035079604     100  Trundle"
      ]
     },
     "execution_count": 19,
     "metadata": {},
     "output_type": "execute_result"
    }
   ],
   "source": [
    "df_sub.drop(['teamEarlySurrendered', 'GameMode'], 1, inplace=True)\n",
    "df_sub.head(2)"
   ]
  },
  {
   "cell_type": "code",
   "execution_count": 114,
   "metadata": {},
   "outputs": [],
   "source": [
    "# df_sub.to_csv('invalid처리한_조합만들기데이터.csv', encoding='cp949')"
   ]
  },
  {
   "cell_type": "markdown",
   "metadata": {},
   "source": [
    "### 데이터를 라인별로 쪼개기"
   ]
  },
  {
   "cell_type": "code",
   "execution_count": 115,
   "metadata": {},
   "outputs": [],
   "source": [
    "top = df_sub.loc[df_sub['라인']=='TOP']\n",
    "jung = df_sub.loc[df_sub['라인']=='JUNGLE']\n",
    "mid = df_sub.loc[df_sub['라인']=='MIDDLE']\n",
    "bot = df_sub.loc[df_sub['라인']=='BOTTOM']\n",
    "sup = df_sub.loc[df_sub['라인']=='UTILITY']"
   ]
  },
  {
   "cell_type": "markdown",
   "metadata": {},
   "source": [
    "### 탑 정글 블루팀 조합 만들기"
   ]
  },
  {
   "cell_type": "code",
   "execution_count": 124,
   "metadata": {},
   "outputs": [
    {
     "data": {
      "text/html": [
       "<div>\n",
       "<style scoped>\n",
       "    .dataframe tbody tr th:only-of-type {\n",
       "        vertical-align: middle;\n",
       "    }\n",
       "\n",
       "    .dataframe tbody tr th {\n",
       "        vertical-align: top;\n",
       "    }\n",
       "\n",
       "    .dataframe thead th {\n",
       "        text-align: right;\n",
       "    }\n",
       "</style>\n",
       "<table border=\"1\" class=\"dataframe\">\n",
       "  <thead>\n",
       "    <tr style=\"text-align: right;\">\n",
       "      <th></th>\n",
       "      <th>win_x</th>\n",
       "      <th>라인_x</th>\n",
       "      <th>GameID</th>\n",
       "      <th>teamId_x</th>\n",
       "      <th>챔피언_x</th>\n",
       "      <th>win_y</th>\n",
       "      <th>라인_y</th>\n",
       "      <th>teamId_y</th>\n",
       "      <th>챔피언_y</th>\n",
       "    </tr>\n",
       "  </thead>\n",
       "  <tbody>\n",
       "    <tr>\n",
       "      <th>0</th>\n",
       "      <td>True</td>\n",
       "      <td>TOP</td>\n",
       "      <td>4035079604</td>\n",
       "      <td>100</td>\n",
       "      <td>Sett</td>\n",
       "      <td>True</td>\n",
       "      <td>JUNGLE</td>\n",
       "      <td>100</td>\n",
       "      <td>Trundle</td>\n",
       "    </tr>\n",
       "    <tr>\n",
       "      <th>1</th>\n",
       "      <td>False</td>\n",
       "      <td>TOP</td>\n",
       "      <td>4035079613</td>\n",
       "      <td>100</td>\n",
       "      <td>Garen</td>\n",
       "      <td>False</td>\n",
       "      <td>JUNGLE</td>\n",
       "      <td>100</td>\n",
       "      <td>FiddleSticks</td>\n",
       "    </tr>\n",
       "  </tbody>\n",
       "</table>\n",
       "</div>"
      ],
      "text/plain": [
       "   win_x 라인_x      GameID  teamId_x  챔피언_x  win_y    라인_y  teamId_y  \\\n",
       "0   True  TOP  4035079604       100   Sett   True  JUNGLE       100   \n",
       "1  False  TOP  4035079613       100  Garen  False  JUNGLE       100   \n",
       "\n",
       "          챔피언_y  \n",
       "0       Trundle  \n",
       "1  FiddleSticks  "
      ]
     },
     "execution_count": 124,
     "metadata": {},
     "output_type": "execute_result"
    }
   ],
   "source": [
    "blue_top = pd.merge(top[top['teamId'] == 100], jung[jung['teamId']==100], on='GameID', how='inner')\n",
    "blue_top.head(2)"
   ]
  },
  {
   "cell_type": "code",
   "execution_count": 126,
   "metadata": {},
   "outputs": [
    {
     "name": "stderr",
     "output_type": "stream",
     "text": [
      "C:\\Users\\sujong\\AppData\\Local\\Temp\\ipykernel_16804\\1465835328.py:1: FutureWarning: In a future version of pandas all arguments of DataFrame.drop except for the argument 'labels' will be keyword-only.\n",
      "  blue_top.drop(['win_x', '라인_x', 'teamId_x', 'teamId_y', '라인_y'],1,inplace=True)\n"
     ]
    },
    {
     "data": {
      "text/html": [
       "<div>\n",
       "<style scoped>\n",
       "    .dataframe tbody tr th:only-of-type {\n",
       "        vertical-align: middle;\n",
       "    }\n",
       "\n",
       "    .dataframe tbody tr th {\n",
       "        vertical-align: top;\n",
       "    }\n",
       "\n",
       "    .dataframe thead th {\n",
       "        text-align: right;\n",
       "    }\n",
       "</style>\n",
       "<table border=\"1\" class=\"dataframe\">\n",
       "  <thead>\n",
       "    <tr style=\"text-align: right;\">\n",
       "      <th></th>\n",
       "      <th>GameID</th>\n",
       "      <th>챔피언_x</th>\n",
       "      <th>win_y</th>\n",
       "      <th>챔피언_y</th>\n",
       "    </tr>\n",
       "  </thead>\n",
       "  <tbody>\n",
       "    <tr>\n",
       "      <th>0</th>\n",
       "      <td>4035079604</td>\n",
       "      <td>Sett</td>\n",
       "      <td>True</td>\n",
       "      <td>Trundle</td>\n",
       "    </tr>\n",
       "    <tr>\n",
       "      <th>1</th>\n",
       "      <td>4035079613</td>\n",
       "      <td>Garen</td>\n",
       "      <td>False</td>\n",
       "      <td>FiddleSticks</td>\n",
       "    </tr>\n",
       "  </tbody>\n",
       "</table>\n",
       "</div>"
      ],
      "text/plain": [
       "       GameID  챔피언_x  win_y         챔피언_y\n",
       "0  4035079604   Sett   True       Trundle\n",
       "1  4035079613  Garen  False  FiddleSticks"
      ]
     },
     "execution_count": 126,
     "metadata": {},
     "output_type": "execute_result"
    }
   ],
   "source": [
    "blue_top.drop(['win_x', '라인_x', 'teamId_x', 'teamId_y', '라인_y'],1,inplace=True)\n",
    "blue_top.head(2)"
   ]
  },
  {
   "cell_type": "code",
   "execution_count": 127,
   "metadata": {},
   "outputs": [
    {
     "data": {
      "text/html": [
       "<div>\n",
       "<style scoped>\n",
       "    .dataframe tbody tr th:only-of-type {\n",
       "        vertical-align: middle;\n",
       "    }\n",
       "\n",
       "    .dataframe tbody tr th {\n",
       "        vertical-align: top;\n",
       "    }\n",
       "\n",
       "    .dataframe thead th {\n",
       "        text-align: right;\n",
       "    }\n",
       "</style>\n",
       "<table border=\"1\" class=\"dataframe\">\n",
       "  <thead>\n",
       "    <tr style=\"text-align: right;\">\n",
       "      <th></th>\n",
       "      <th>GameID</th>\n",
       "      <th>챔피언_x</th>\n",
       "      <th>win_y</th>\n",
       "      <th>챔피언_y</th>\n",
       "      <th>탑_정글_조합</th>\n",
       "    </tr>\n",
       "  </thead>\n",
       "  <tbody>\n",
       "    <tr>\n",
       "      <th>0</th>\n",
       "      <td>4035079604</td>\n",
       "      <td>Sett</td>\n",
       "      <td>True</td>\n",
       "      <td>Trundle</td>\n",
       "      <td>Sett &amp; Trundle</td>\n",
       "    </tr>\n",
       "    <tr>\n",
       "      <th>1</th>\n",
       "      <td>4035079613</td>\n",
       "      <td>Garen</td>\n",
       "      <td>False</td>\n",
       "      <td>FiddleSticks</td>\n",
       "      <td>Garen &amp; FiddleSticks</td>\n",
       "    </tr>\n",
       "  </tbody>\n",
       "</table>\n",
       "</div>"
      ],
      "text/plain": [
       "       GameID  챔피언_x  win_y         챔피언_y               탑_정글_조합\n",
       "0  4035079604   Sett   True       Trundle        Sett & Trundle\n",
       "1  4035079613  Garen  False  FiddleSticks  Garen & FiddleSticks"
      ]
     },
     "execution_count": 127,
     "metadata": {},
     "output_type": "execute_result"
    }
   ],
   "source": [
    "blue_top['탑_정글_조합']=blue_top['챔피언_x']+' & '+blue_top['챔피언_y']\n",
    "blue_top.head(2)"
   ]
  },
  {
   "cell_type": "code",
   "execution_count": 128,
   "metadata": {},
   "outputs": [
    {
     "name": "stderr",
     "output_type": "stream",
     "text": [
      "C:\\Users\\sujong\\AppData\\Local\\Temp\\ipykernel_16804\\4000403697.py:1: FutureWarning: In a future version of pandas all arguments of DataFrame.drop except for the argument 'labels' will be keyword-only.\n",
      "  blue_top.drop(['챔피언_x', '챔피언_y'],1, inplace=True)\n"
     ]
    },
    {
     "data": {
      "text/html": [
       "<div>\n",
       "<style scoped>\n",
       "    .dataframe tbody tr th:only-of-type {\n",
       "        vertical-align: middle;\n",
       "    }\n",
       "\n",
       "    .dataframe tbody tr th {\n",
       "        vertical-align: top;\n",
       "    }\n",
       "\n",
       "    .dataframe thead th {\n",
       "        text-align: right;\n",
       "    }\n",
       "</style>\n",
       "<table border=\"1\" class=\"dataframe\">\n",
       "  <thead>\n",
       "    <tr style=\"text-align: right;\">\n",
       "      <th></th>\n",
       "      <th>GameID</th>\n",
       "      <th>win_y</th>\n",
       "      <th>탑_정글_조합</th>\n",
       "    </tr>\n",
       "  </thead>\n",
       "  <tbody>\n",
       "    <tr>\n",
       "      <th>0</th>\n",
       "      <td>4035079604</td>\n",
       "      <td>True</td>\n",
       "      <td>Sett &amp; Trundle</td>\n",
       "    </tr>\n",
       "    <tr>\n",
       "      <th>1</th>\n",
       "      <td>4035079613</td>\n",
       "      <td>False</td>\n",
       "      <td>Garen &amp; FiddleSticks</td>\n",
       "    </tr>\n",
       "  </tbody>\n",
       "</table>\n",
       "</div>"
      ],
      "text/plain": [
       "       GameID  win_y               탑_정글_조합\n",
       "0  4035079604   True        Sett & Trundle\n",
       "1  4035079613  False  Garen & FiddleSticks"
      ]
     },
     "execution_count": 128,
     "metadata": {},
     "output_type": "execute_result"
    }
   ],
   "source": [
    "blue_top.drop(['챔피언_x', '챔피언_y'],1, inplace=True)\n",
    "blue_top.head(2)"
   ]
  },
  {
   "cell_type": "code",
   "execution_count": 136,
   "metadata": {},
   "outputs": [
    {
     "data": {
      "text/html": [
       "<div>\n",
       "<style scoped>\n",
       "    .dataframe tbody tr th:only-of-type {\n",
       "        vertical-align: middle;\n",
       "    }\n",
       "\n",
       "    .dataframe tbody tr th {\n",
       "        vertical-align: top;\n",
       "    }\n",
       "\n",
       "    .dataframe thead th {\n",
       "        text-align: right;\n",
       "    }\n",
       "</style>\n",
       "<table border=\"1\" class=\"dataframe\">\n",
       "  <thead>\n",
       "    <tr style=\"text-align: right;\">\n",
       "      <th></th>\n",
       "      <th>GameID</th>\n",
       "      <th>win</th>\n",
       "      <th>탑_정글_조합</th>\n",
       "    </tr>\n",
       "  </thead>\n",
       "  <tbody>\n",
       "    <tr>\n",
       "      <th>0</th>\n",
       "      <td>4035079604</td>\n",
       "      <td>True</td>\n",
       "      <td>Sett &amp; Trundle</td>\n",
       "    </tr>\n",
       "    <tr>\n",
       "      <th>1</th>\n",
       "      <td>4035079613</td>\n",
       "      <td>False</td>\n",
       "      <td>Garen &amp; FiddleSticks</td>\n",
       "    </tr>\n",
       "  </tbody>\n",
       "</table>\n",
       "</div>"
      ],
      "text/plain": [
       "       GameID    win               탑_정글_조합\n",
       "0  4035079604   True        Sett & Trundle\n",
       "1  4035079613  False  Garen & FiddleSticks"
      ]
     },
     "execution_count": 136,
     "metadata": {},
     "output_type": "execute_result"
    }
   ],
   "source": [
    "blue_top.rename(columns={'win_y':'win'}, inplace=True)\n",
    "blue_top.head(2)"
   ]
  },
  {
   "cell_type": "markdown",
   "metadata": {},
   "source": [
    "### 탑 정글 레드팀 조합 만들기"
   ]
  },
  {
   "cell_type": "code",
   "execution_count": 130,
   "metadata": {},
   "outputs": [
    {
     "data": {
      "text/html": [
       "<div>\n",
       "<style scoped>\n",
       "    .dataframe tbody tr th:only-of-type {\n",
       "        vertical-align: middle;\n",
       "    }\n",
       "\n",
       "    .dataframe tbody tr th {\n",
       "        vertical-align: top;\n",
       "    }\n",
       "\n",
       "    .dataframe thead th {\n",
       "        text-align: right;\n",
       "    }\n",
       "</style>\n",
       "<table border=\"1\" class=\"dataframe\">\n",
       "  <thead>\n",
       "    <tr style=\"text-align: right;\">\n",
       "      <th></th>\n",
       "      <th>win_x</th>\n",
       "      <th>라인_x</th>\n",
       "      <th>GameID</th>\n",
       "      <th>teamId_x</th>\n",
       "      <th>챔피언_x</th>\n",
       "      <th>win_y</th>\n",
       "      <th>라인_y</th>\n",
       "      <th>teamId_y</th>\n",
       "      <th>챔피언_y</th>\n",
       "    </tr>\n",
       "  </thead>\n",
       "  <tbody>\n",
       "    <tr>\n",
       "      <th>0</th>\n",
       "      <td>False</td>\n",
       "      <td>TOP</td>\n",
       "      <td>4035079604</td>\n",
       "      <td>200</td>\n",
       "      <td>Yone</td>\n",
       "      <td>False</td>\n",
       "      <td>JUNGLE</td>\n",
       "      <td>200</td>\n",
       "      <td>Viego</td>\n",
       "    </tr>\n",
       "    <tr>\n",
       "      <th>1</th>\n",
       "      <td>True</td>\n",
       "      <td>TOP</td>\n",
       "      <td>4035079613</td>\n",
       "      <td>200</td>\n",
       "      <td>Malzahar</td>\n",
       "      <td>True</td>\n",
       "      <td>JUNGLE</td>\n",
       "      <td>200</td>\n",
       "      <td>Nocturne</td>\n",
       "    </tr>\n",
       "  </tbody>\n",
       "</table>\n",
       "</div>"
      ],
      "text/plain": [
       "   win_x 라인_x      GameID  teamId_x     챔피언_x  win_y    라인_y  teamId_y  \\\n",
       "0  False  TOP  4035079604       200      Yone  False  JUNGLE       200   \n",
       "1   True  TOP  4035079613       200  Malzahar   True  JUNGLE       200   \n",
       "\n",
       "      챔피언_y  \n",
       "0     Viego  \n",
       "1  Nocturne  "
      ]
     },
     "execution_count": 130,
     "metadata": {},
     "output_type": "execute_result"
    }
   ],
   "source": [
    "red_top = pd.merge(top[top['teamId'] == 200], jung[jung['teamId']==200], on='GameID', how='inner')\n",
    "red_top.head(2)"
   ]
  },
  {
   "cell_type": "code",
   "execution_count": 132,
   "metadata": {},
   "outputs": [
    {
     "name": "stderr",
     "output_type": "stream",
     "text": [
      "C:\\Users\\sujong\\AppData\\Local\\Temp\\ipykernel_16804\\3472420479.py:1: FutureWarning: In a future version of pandas all arguments of DataFrame.drop except for the argument 'labels' will be keyword-only.\n",
      "  red_top.drop(['win_x', '라인_x', 'teamId_x', 'teamId_y', '라인_y'],1,inplace=True)\n"
     ]
    },
    {
     "data": {
      "text/html": [
       "<div>\n",
       "<style scoped>\n",
       "    .dataframe tbody tr th:only-of-type {\n",
       "        vertical-align: middle;\n",
       "    }\n",
       "\n",
       "    .dataframe tbody tr th {\n",
       "        vertical-align: top;\n",
       "    }\n",
       "\n",
       "    .dataframe thead th {\n",
       "        text-align: right;\n",
       "    }\n",
       "</style>\n",
       "<table border=\"1\" class=\"dataframe\">\n",
       "  <thead>\n",
       "    <tr style=\"text-align: right;\">\n",
       "      <th></th>\n",
       "      <th>GameID</th>\n",
       "      <th>챔피언_x</th>\n",
       "      <th>win_y</th>\n",
       "      <th>챔피언_y</th>\n",
       "    </tr>\n",
       "  </thead>\n",
       "  <tbody>\n",
       "    <tr>\n",
       "      <th>0</th>\n",
       "      <td>4035079604</td>\n",
       "      <td>Yone</td>\n",
       "      <td>False</td>\n",
       "      <td>Viego</td>\n",
       "    </tr>\n",
       "    <tr>\n",
       "      <th>1</th>\n",
       "      <td>4035079613</td>\n",
       "      <td>Malzahar</td>\n",
       "      <td>True</td>\n",
       "      <td>Nocturne</td>\n",
       "    </tr>\n",
       "  </tbody>\n",
       "</table>\n",
       "</div>"
      ],
      "text/plain": [
       "       GameID     챔피언_x  win_y     챔피언_y\n",
       "0  4035079604      Yone  False     Viego\n",
       "1  4035079613  Malzahar   True  Nocturne"
      ]
     },
     "execution_count": 132,
     "metadata": {},
     "output_type": "execute_result"
    }
   ],
   "source": [
    "red_top.drop(['win_x', '라인_x', 'teamId_x', 'teamId_y', '라인_y'],1,inplace=True)\n",
    "red_top.head(2)"
   ]
  },
  {
   "cell_type": "code",
   "execution_count": 133,
   "metadata": {},
   "outputs": [
    {
     "data": {
      "text/html": [
       "<div>\n",
       "<style scoped>\n",
       "    .dataframe tbody tr th:only-of-type {\n",
       "        vertical-align: middle;\n",
       "    }\n",
       "\n",
       "    .dataframe tbody tr th {\n",
       "        vertical-align: top;\n",
       "    }\n",
       "\n",
       "    .dataframe thead th {\n",
       "        text-align: right;\n",
       "    }\n",
       "</style>\n",
       "<table border=\"1\" class=\"dataframe\">\n",
       "  <thead>\n",
       "    <tr style=\"text-align: right;\">\n",
       "      <th></th>\n",
       "      <th>GameID</th>\n",
       "      <th>챔피언_x</th>\n",
       "      <th>win_y</th>\n",
       "      <th>챔피언_y</th>\n",
       "      <th>탑_정글_조합</th>\n",
       "    </tr>\n",
       "  </thead>\n",
       "  <tbody>\n",
       "    <tr>\n",
       "      <th>0</th>\n",
       "      <td>4035079604</td>\n",
       "      <td>Yone</td>\n",
       "      <td>False</td>\n",
       "      <td>Viego</td>\n",
       "      <td>Yone &amp; Viego</td>\n",
       "    </tr>\n",
       "    <tr>\n",
       "      <th>1</th>\n",
       "      <td>4035079613</td>\n",
       "      <td>Malzahar</td>\n",
       "      <td>True</td>\n",
       "      <td>Nocturne</td>\n",
       "      <td>Malzahar &amp; Nocturne</td>\n",
       "    </tr>\n",
       "  </tbody>\n",
       "</table>\n",
       "</div>"
      ],
      "text/plain": [
       "       GameID     챔피언_x  win_y     챔피언_y              탑_정글_조합\n",
       "0  4035079604      Yone  False     Viego         Yone & Viego\n",
       "1  4035079613  Malzahar   True  Nocturne  Malzahar & Nocturne"
      ]
     },
     "execution_count": 133,
     "metadata": {},
     "output_type": "execute_result"
    }
   ],
   "source": [
    "red_top['탑_정글_조합']=red_top['챔피언_x']+' & '+red_top['챔피언_y']\n",
    "red_top.head(2)"
   ]
  },
  {
   "cell_type": "code",
   "execution_count": 134,
   "metadata": {},
   "outputs": [
    {
     "name": "stderr",
     "output_type": "stream",
     "text": [
      "C:\\Users\\sujong\\AppData\\Local\\Temp\\ipykernel_16804\\3205751593.py:1: FutureWarning: In a future version of pandas all arguments of DataFrame.drop except for the argument 'labels' will be keyword-only.\n",
      "  red_top.drop(['챔피언_x', '챔피언_y'],1, inplace=True)\n"
     ]
    },
    {
     "data": {
      "text/html": [
       "<div>\n",
       "<style scoped>\n",
       "    .dataframe tbody tr th:only-of-type {\n",
       "        vertical-align: middle;\n",
       "    }\n",
       "\n",
       "    .dataframe tbody tr th {\n",
       "        vertical-align: top;\n",
       "    }\n",
       "\n",
       "    .dataframe thead th {\n",
       "        text-align: right;\n",
       "    }\n",
       "</style>\n",
       "<table border=\"1\" class=\"dataframe\">\n",
       "  <thead>\n",
       "    <tr style=\"text-align: right;\">\n",
       "      <th></th>\n",
       "      <th>GameID</th>\n",
       "      <th>win_y</th>\n",
       "      <th>탑_정글_조합</th>\n",
       "    </tr>\n",
       "  </thead>\n",
       "  <tbody>\n",
       "    <tr>\n",
       "      <th>0</th>\n",
       "      <td>4035079604</td>\n",
       "      <td>False</td>\n",
       "      <td>Yone &amp; Viego</td>\n",
       "    </tr>\n",
       "    <tr>\n",
       "      <th>1</th>\n",
       "      <td>4035079613</td>\n",
       "      <td>True</td>\n",
       "      <td>Malzahar &amp; Nocturne</td>\n",
       "    </tr>\n",
       "  </tbody>\n",
       "</table>\n",
       "</div>"
      ],
      "text/plain": [
       "       GameID  win_y              탑_정글_조합\n",
       "0  4035079604  False         Yone & Viego\n",
       "1  4035079613   True  Malzahar & Nocturne"
      ]
     },
     "execution_count": 134,
     "metadata": {},
     "output_type": "execute_result"
    }
   ],
   "source": [
    "red_top.drop(['챔피언_x', '챔피언_y'],1, inplace=True)\n",
    "red_top.head(2)"
   ]
  },
  {
   "cell_type": "code",
   "execution_count": 137,
   "metadata": {},
   "outputs": [
    {
     "data": {
      "text/html": [
       "<div>\n",
       "<style scoped>\n",
       "    .dataframe tbody tr th:only-of-type {\n",
       "        vertical-align: middle;\n",
       "    }\n",
       "\n",
       "    .dataframe tbody tr th {\n",
       "        vertical-align: top;\n",
       "    }\n",
       "\n",
       "    .dataframe thead th {\n",
       "        text-align: right;\n",
       "    }\n",
       "</style>\n",
       "<table border=\"1\" class=\"dataframe\">\n",
       "  <thead>\n",
       "    <tr style=\"text-align: right;\">\n",
       "      <th></th>\n",
       "      <th>GameID</th>\n",
       "      <th>win</th>\n",
       "      <th>탑_정글_조합</th>\n",
       "    </tr>\n",
       "  </thead>\n",
       "  <tbody>\n",
       "    <tr>\n",
       "      <th>0</th>\n",
       "      <td>4035079604</td>\n",
       "      <td>False</td>\n",
       "      <td>Yone &amp; Viego</td>\n",
       "    </tr>\n",
       "    <tr>\n",
       "      <th>1</th>\n",
       "      <td>4035079613</td>\n",
       "      <td>True</td>\n",
       "      <td>Malzahar &amp; Nocturne</td>\n",
       "    </tr>\n",
       "  </tbody>\n",
       "</table>\n",
       "</div>"
      ],
      "text/plain": [
       "       GameID    win              탑_정글_조합\n",
       "0  4035079604  False         Yone & Viego\n",
       "1  4035079613   True  Malzahar & Nocturne"
      ]
     },
     "execution_count": 137,
     "metadata": {},
     "output_type": "execute_result"
    }
   ],
   "source": [
    "red_top.rename(columns={'win_y':'win'}, inplace=True)\n",
    "red_top.head(2)"
   ]
  },
  {
   "cell_type": "markdown",
   "metadata": {},
   "source": [
    "### 일단 레드 블루 그냥 한컬럼으로 합치기"
   ]
  },
  {
   "cell_type": "code",
   "execution_count": 164,
   "metadata": {},
   "outputs": [
    {
     "data": {
      "text/html": [
       "<div>\n",
       "<style scoped>\n",
       "    .dataframe tbody tr th:only-of-type {\n",
       "        vertical-align: middle;\n",
       "    }\n",
       "\n",
       "    .dataframe tbody tr th {\n",
       "        vertical-align: top;\n",
       "    }\n",
       "\n",
       "    .dataframe thead th {\n",
       "        text-align: right;\n",
       "    }\n",
       "</style>\n",
       "<table border=\"1\" class=\"dataframe\">\n",
       "  <thead>\n",
       "    <tr style=\"text-align: right;\">\n",
       "      <th></th>\n",
       "      <th>탑_정글_조합</th>\n",
       "      <th>승률</th>\n",
       "    </tr>\n",
       "  </thead>\n",
       "  <tbody>\n",
       "    <tr>\n",
       "      <th>0</th>\n",
       "      <td>예시</td>\n",
       "      <td>0</td>\n",
       "    </tr>\n",
       "  </tbody>\n",
       "</table>\n",
       "</div>"
      ],
      "text/plain": [
       "  탑_정글_조합  승률\n",
       "0      예시   0"
      ]
     },
     "execution_count": 164,
     "metadata": {},
     "output_type": "execute_result"
    }
   ],
   "source": [
    "top_combi_win_rate = pd.DataFrame(data={'탑_정글_조합':'예시','승률':[0]})\n",
    "top_combi_win_rate"
   ]
  },
  {
   "cell_type": "code",
   "execution_count": 150,
   "metadata": {},
   "outputs": [],
   "source": [
    "b = top_combi_win_rate.copy()"
   ]
  },
  {
   "cell_type": "code",
   "execution_count": 141,
   "metadata": {},
   "outputs": [
    {
     "data": {
      "text/plain": [
       "0.38461538461538464"
      ]
     },
     "execution_count": 141,
     "metadata": {},
     "output_type": "execute_result"
    }
   ],
   "source": [
    "a = top_combi.loc[top_combi['탑_정글_조합']=='Yone & Viego']\n",
    "sum(a['win'])/len(a)"
   ]
  },
  {
   "cell_type": "code",
   "execution_count": 139,
   "metadata": {},
   "outputs": [
    {
     "data": {
      "text/plain": [
       "array(['Yone & Viego', 'Malzahar & Nocturne', 'Darius & Kindred', ...,\n",
       "       'Garen & Malzahar', 'Nidalee & Trundle', 'Shyvana & Karthus'],\n",
       "      dtype=object)"
      ]
     },
     "execution_count": 139,
     "metadata": {},
     "output_type": "execute_result"
    }
   ],
   "source": [
    "top_combi = pd.concat([red_top, blue_top])\n",
    "top_combi['탑_정글_조합'].unique()"
   ]
  },
  {
   "cell_type": "code",
   "execution_count": 165,
   "metadata": {},
   "outputs": [
    {
     "data": {
      "text/html": [
       "<div>\n",
       "<style scoped>\n",
       "    .dataframe tbody tr th:only-of-type {\n",
       "        vertical-align: middle;\n",
       "    }\n",
       "\n",
       "    .dataframe tbody tr th {\n",
       "        vertical-align: top;\n",
       "    }\n",
       "\n",
       "    .dataframe thead th {\n",
       "        text-align: right;\n",
       "    }\n",
       "</style>\n",
       "<table border=\"1\" class=\"dataframe\">\n",
       "  <thead>\n",
       "    <tr style=\"text-align: right;\">\n",
       "      <th></th>\n",
       "      <th>탑_정글_조합</th>\n",
       "      <th>승률</th>\n",
       "    </tr>\n",
       "  </thead>\n",
       "  <tbody>\n",
       "    <tr>\n",
       "      <th>0</th>\n",
       "      <td>예시</td>\n",
       "      <td>0.000000</td>\n",
       "    </tr>\n",
       "    <tr>\n",
       "      <th>0</th>\n",
       "      <td>Camille &amp; Khazix</td>\n",
       "      <td>0.486486</td>\n",
       "    </tr>\n",
       "    <tr>\n",
       "      <th>0</th>\n",
       "      <td>Fiora &amp; LeeSin</td>\n",
       "      <td>0.323529</td>\n",
       "    </tr>\n",
       "    <tr>\n",
       "      <th>0</th>\n",
       "      <td>Mordekaiser &amp; LeeSin</td>\n",
       "      <td>0.250000</td>\n",
       "    </tr>\n",
       "    <tr>\n",
       "      <th>0</th>\n",
       "      <td>Sett &amp; Viego</td>\n",
       "      <td>0.581395</td>\n",
       "    </tr>\n",
       "    <tr>\n",
       "      <th>...</th>\n",
       "      <td>...</td>\n",
       "      <td>...</td>\n",
       "    </tr>\n",
       "    <tr>\n",
       "      <th>0</th>\n",
       "      <td>Jax &amp; Kayn</td>\n",
       "      <td>0.441860</td>\n",
       "    </tr>\n",
       "    <tr>\n",
       "      <th>0</th>\n",
       "      <td>Irelia &amp; Khazix</td>\n",
       "      <td>0.527778</td>\n",
       "    </tr>\n",
       "    <tr>\n",
       "      <th>0</th>\n",
       "      <td>Teemo &amp; Kayn</td>\n",
       "      <td>0.500000</td>\n",
       "    </tr>\n",
       "    <tr>\n",
       "      <th>0</th>\n",
       "      <td>Nasus &amp; Warwick</td>\n",
       "      <td>0.575758</td>\n",
       "    </tr>\n",
       "    <tr>\n",
       "      <th>0</th>\n",
       "      <td>Tryndamere &amp; Kayn</td>\n",
       "      <td>0.529412</td>\n",
       "    </tr>\n",
       "  </tbody>\n",
       "</table>\n",
       "<p>88 rows × 2 columns</p>\n",
       "</div>"
      ],
      "text/plain": [
       "                 탑_정글_조합        승률\n",
       "0                     예시  0.000000\n",
       "0       Camille & Khazix  0.486486\n",
       "0         Fiora & LeeSin  0.323529\n",
       "0   Mordekaiser & LeeSin  0.250000\n",
       "0           Sett & Viego  0.581395\n",
       "..                   ...       ...\n",
       "0             Jax & Kayn  0.441860\n",
       "0        Irelia & Khazix  0.527778\n",
       "0           Teemo & Kayn  0.500000\n",
       "0        Nasus & Warwick  0.575758\n",
       "0      Tryndamere & Kayn  0.529412\n",
       "\n",
       "[88 rows x 2 columns]"
      ]
     },
     "execution_count": 165,
     "metadata": {},
     "output_type": "execute_result"
    }
   ],
   "source": [
    "for i in top_combi['탑_정글_조합'].unique():\n",
    "    a = top_combi.loc[top_combi['탑_정글_조합']==i]\n",
    "    if len(a)>=30:\n",
    "        b['탑_정글_조합'] = i\n",
    "        b['승률'] = sum(a['win']/len(a))\n",
    "        top_combi_win_rate = pd.concat([top_combi_win_rate, b])\n",
    "top_combi_win_rate"
   ]
  },
  {
   "cell_type": "markdown",
   "metadata": {},
   "source": [
    "### 10경기 이상으로 봤을때 결과"
   ]
  },
  {
   "cell_type": "code",
   "execution_count": 160,
   "metadata": {},
   "outputs": [
    {
     "data": {
      "text/html": [
       "<div>\n",
       "<style scoped>\n",
       "    .dataframe tbody tr th:only-of-type {\n",
       "        vertical-align: middle;\n",
       "    }\n",
       "\n",
       "    .dataframe tbody tr th {\n",
       "        vertical-align: top;\n",
       "    }\n",
       "\n",
       "    .dataframe thead th {\n",
       "        text-align: right;\n",
       "    }\n",
       "</style>\n",
       "<table border=\"1\" class=\"dataframe\">\n",
       "  <thead>\n",
       "    <tr style=\"text-align: right;\">\n",
       "      <th></th>\n",
       "      <th>탑_정글_조합</th>\n",
       "      <th>승률</th>\n",
       "    </tr>\n",
       "  </thead>\n",
       "  <tbody>\n",
       "    <tr>\n",
       "      <th>0</th>\n",
       "      <td>Camille &amp; Kindred</td>\n",
       "      <td>1.000000</td>\n",
       "    </tr>\n",
       "    <tr>\n",
       "      <th>0</th>\n",
       "      <td>Kled &amp; Kayn</td>\n",
       "      <td>0.933333</td>\n",
       "    </tr>\n",
       "    <tr>\n",
       "      <th>0</th>\n",
       "      <td>Trundle &amp; Amumu</td>\n",
       "      <td>0.923077</td>\n",
       "    </tr>\n",
       "    <tr>\n",
       "      <th>0</th>\n",
       "      <td>Aatrox &amp; Warwick</td>\n",
       "      <td>0.900000</td>\n",
       "    </tr>\n",
       "    <tr>\n",
       "      <th>0</th>\n",
       "      <td>Nasus &amp; Rammus</td>\n",
       "      <td>0.846154</td>\n",
       "    </tr>\n",
       "    <tr>\n",
       "      <th>...</th>\n",
       "      <td>...</td>\n",
       "      <td>...</td>\n",
       "    </tr>\n",
       "    <tr>\n",
       "      <th>0</th>\n",
       "      <td>Mordekaiser &amp; Nidalee</td>\n",
       "      <td>0.166667</td>\n",
       "    </tr>\n",
       "    <tr>\n",
       "      <th>0</th>\n",
       "      <td>Shen &amp; Viego</td>\n",
       "      <td>0.111111</td>\n",
       "    </tr>\n",
       "    <tr>\n",
       "      <th>0</th>\n",
       "      <td>Gnar &amp; Warwick</td>\n",
       "      <td>0.100000</td>\n",
       "    </tr>\n",
       "    <tr>\n",
       "      <th>0</th>\n",
       "      <td>Warwick &amp; LeeSin</td>\n",
       "      <td>0.083333</td>\n",
       "    </tr>\n",
       "    <tr>\n",
       "      <th>0</th>\n",
       "      <td>예시</td>\n",
       "      <td>0.000000</td>\n",
       "    </tr>\n",
       "  </tbody>\n",
       "</table>\n",
       "<p>648 rows × 2 columns</p>\n",
       "</div>"
      ],
      "text/plain": [
       "                  탑_정글_조합        승률\n",
       "0       Camille & Kindred  1.000000\n",
       "0             Kled & Kayn  0.933333\n",
       "0         Trundle & Amumu  0.923077\n",
       "0        Aatrox & Warwick  0.900000\n",
       "0          Nasus & Rammus  0.846154\n",
       "..                    ...       ...\n",
       "0   Mordekaiser & Nidalee  0.166667\n",
       "0            Shen & Viego  0.111111\n",
       "0          Gnar & Warwick  0.100000\n",
       "0        Warwick & LeeSin  0.083333\n",
       "0                      예시  0.000000\n",
       "\n",
       "[648 rows x 2 columns]"
      ]
     },
     "execution_count": 160,
     "metadata": {},
     "output_type": "execute_result"
    }
   ],
   "source": [
    "top_combi_win_rate.sort_values(by='승률', ascending=False)"
   ]
  },
  {
   "cell_type": "markdown",
   "metadata": {},
   "source": [
    "### 20 경기 이상 확인했을때 결과"
   ]
  },
  {
   "cell_type": "code",
   "execution_count": 163,
   "metadata": {},
   "outputs": [
    {
     "data": {
      "text/html": [
       "<div>\n",
       "<style scoped>\n",
       "    .dataframe tbody tr th:only-of-type {\n",
       "        vertical-align: middle;\n",
       "    }\n",
       "\n",
       "    .dataframe tbody tr th {\n",
       "        vertical-align: top;\n",
       "    }\n",
       "\n",
       "    .dataframe thead th {\n",
       "        text-align: right;\n",
       "    }\n",
       "</style>\n",
       "<table border=\"1\" class=\"dataframe\">\n",
       "  <thead>\n",
       "    <tr style=\"text-align: right;\">\n",
       "      <th></th>\n",
       "      <th>탑_정글_조합</th>\n",
       "      <th>승률</th>\n",
       "    </tr>\n",
       "  </thead>\n",
       "  <tbody>\n",
       "    <tr>\n",
       "      <th>0</th>\n",
       "      <td>Jax &amp; Nunu</td>\n",
       "      <td>0.782609</td>\n",
       "    </tr>\n",
       "    <tr>\n",
       "      <th>0</th>\n",
       "      <td>Darius &amp; Amumu</td>\n",
       "      <td>0.764706</td>\n",
       "    </tr>\n",
       "    <tr>\n",
       "      <th>0</th>\n",
       "      <td>DrMundo &amp; MasterYi</td>\n",
       "      <td>0.739130</td>\n",
       "    </tr>\n",
       "    <tr>\n",
       "      <th>0</th>\n",
       "      <td>Garen &amp; Zac</td>\n",
       "      <td>0.727273</td>\n",
       "    </tr>\n",
       "    <tr>\n",
       "      <th>0</th>\n",
       "      <td>Teemo &amp; Trundle</td>\n",
       "      <td>0.718750</td>\n",
       "    </tr>\n",
       "    <tr>\n",
       "      <th>...</th>\n",
       "      <td>...</td>\n",
       "      <td>...</td>\n",
       "    </tr>\n",
       "    <tr>\n",
       "      <th>0</th>\n",
       "      <td>Yorick &amp; Shaco</td>\n",
       "      <td>0.272727</td>\n",
       "    </tr>\n",
       "    <tr>\n",
       "      <th>0</th>\n",
       "      <td>Camille &amp; Ekko</td>\n",
       "      <td>0.259259</td>\n",
       "    </tr>\n",
       "    <tr>\n",
       "      <th>0</th>\n",
       "      <td>Mordekaiser &amp; LeeSin</td>\n",
       "      <td>0.250000</td>\n",
       "    </tr>\n",
       "    <tr>\n",
       "      <th>0</th>\n",
       "      <td>Malphite &amp; MasterYi</td>\n",
       "      <td>0.241379</td>\n",
       "    </tr>\n",
       "    <tr>\n",
       "      <th>0</th>\n",
       "      <td>예시</td>\n",
       "      <td>0.000000</td>\n",
       "    </tr>\n",
       "  </tbody>\n",
       "</table>\n",
       "<p>223 rows × 2 columns</p>\n",
       "</div>"
      ],
      "text/plain": [
       "                 탑_정글_조합        승률\n",
       "0             Jax & Nunu  0.782609\n",
       "0         Darius & Amumu  0.764706\n",
       "0     DrMundo & MasterYi  0.739130\n",
       "0            Garen & Zac  0.727273\n",
       "0        Teemo & Trundle  0.718750\n",
       "..                   ...       ...\n",
       "0         Yorick & Shaco  0.272727\n",
       "0         Camille & Ekko  0.259259\n",
       "0   Mordekaiser & LeeSin  0.250000\n",
       "0    Malphite & MasterYi  0.241379\n",
       "0                     예시  0.000000\n",
       "\n",
       "[223 rows x 2 columns]"
      ]
     },
     "execution_count": 163,
     "metadata": {},
     "output_type": "execute_result"
    }
   ],
   "source": [
    "top_combi_win_rate.sort_values(by='승률', ascending=False)"
   ]
  },
  {
   "cell_type": "markdown",
   "metadata": {},
   "source": [
    "### 30경기 이상 확인했을때 결과"
   ]
  },
  {
   "cell_type": "code",
   "execution_count": 166,
   "metadata": {},
   "outputs": [
    {
     "data": {
      "text/html": [
       "<div>\n",
       "<style scoped>\n",
       "    .dataframe tbody tr th:only-of-type {\n",
       "        vertical-align: middle;\n",
       "    }\n",
       "\n",
       "    .dataframe tbody tr th {\n",
       "        vertical-align: top;\n",
       "    }\n",
       "\n",
       "    .dataframe thead th {\n",
       "        text-align: right;\n",
       "    }\n",
       "</style>\n",
       "<table border=\"1\" class=\"dataframe\">\n",
       "  <thead>\n",
       "    <tr style=\"text-align: right;\">\n",
       "      <th></th>\n",
       "      <th>탑_정글_조합</th>\n",
       "      <th>승률</th>\n",
       "    </tr>\n",
       "  </thead>\n",
       "  <tbody>\n",
       "    <tr>\n",
       "      <th>0</th>\n",
       "      <td>Darius &amp; Amumu</td>\n",
       "      <td>0.764706</td>\n",
       "    </tr>\n",
       "    <tr>\n",
       "      <th>0</th>\n",
       "      <td>Teemo &amp; Trundle</td>\n",
       "      <td>0.718750</td>\n",
       "    </tr>\n",
       "    <tr>\n",
       "      <th>0</th>\n",
       "      <td>Camille &amp; JarvanIV</td>\n",
       "      <td>0.700000</td>\n",
       "    </tr>\n",
       "    <tr>\n",
       "      <th>0</th>\n",
       "      <td>Garen &amp; MasterYi</td>\n",
       "      <td>0.660000</td>\n",
       "    </tr>\n",
       "    <tr>\n",
       "      <th>0</th>\n",
       "      <td>Illaoi &amp; Amumu</td>\n",
       "      <td>0.656250</td>\n",
       "    </tr>\n",
       "    <tr>\n",
       "      <th>...</th>\n",
       "      <td>...</td>\n",
       "      <td>...</td>\n",
       "    </tr>\n",
       "    <tr>\n",
       "      <th>0</th>\n",
       "      <td>Fiora &amp; Kayn</td>\n",
       "      <td>0.324324</td>\n",
       "    </tr>\n",
       "    <tr>\n",
       "      <th>0</th>\n",
       "      <td>Fiora &amp; LeeSin</td>\n",
       "      <td>0.323529</td>\n",
       "    </tr>\n",
       "    <tr>\n",
       "      <th>0</th>\n",
       "      <td>Teemo &amp; LeeSin</td>\n",
       "      <td>0.290323</td>\n",
       "    </tr>\n",
       "    <tr>\n",
       "      <th>0</th>\n",
       "      <td>Mordekaiser &amp; LeeSin</td>\n",
       "      <td>0.250000</td>\n",
       "    </tr>\n",
       "    <tr>\n",
       "      <th>0</th>\n",
       "      <td>예시</td>\n",
       "      <td>0.000000</td>\n",
       "    </tr>\n",
       "  </tbody>\n",
       "</table>\n",
       "<p>88 rows × 2 columns</p>\n",
       "</div>"
      ],
      "text/plain": [
       "                 탑_정글_조합        승률\n",
       "0         Darius & Amumu  0.764706\n",
       "0        Teemo & Trundle  0.718750\n",
       "0     Camille & JarvanIV  0.700000\n",
       "0       Garen & MasterYi  0.660000\n",
       "0         Illaoi & Amumu  0.656250\n",
       "..                   ...       ...\n",
       "0           Fiora & Kayn  0.324324\n",
       "0         Fiora & LeeSin  0.323529\n",
       "0         Teemo & LeeSin  0.290323\n",
       "0   Mordekaiser & LeeSin  0.250000\n",
       "0                     예시  0.000000\n",
       "\n",
       "[88 rows x 2 columns]"
      ]
     },
     "execution_count": 166,
     "metadata": {},
     "output_type": "execute_result"
    }
   ],
   "source": [
    "top_combi_win_rate.sort_values(by='승률', ascending=False)"
   ]
  }
 ],
 "metadata": {
  "kernelspec": {
   "display_name": "Python 3.9.12 ('base')",
   "language": "python",
   "name": "python3"
  },
  "language_info": {
   "codemirror_mode": {
    "name": "ipython",
    "version": 3
   },
   "file_extension": ".py",
   "mimetype": "text/x-python",
   "name": "python",
   "nbconvert_exporter": "python",
   "pygments_lexer": "ipython3",
   "version": "3.9.12"
  },
  "orig_nbformat": 4,
  "vscode": {
   "interpreter": {
    "hash": "66a9da18caf10d712c2a7145ebee24072bdfaa6f0e06b1e12fab07798beb6c4b"
   }
  }
 },
 "nbformat": 4,
 "nbformat_minor": 2
}
